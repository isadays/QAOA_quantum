{
  "nbformat": 4,
  "nbformat_minor": 0,
  "metadata": {
    "colab": {
      "provenance": [],
      "authorship_tag": "ABX9TyOPBdOmZWFhpnzleY+UMDqH",
      "include_colab_link": true
    },
    "kernelspec": {
      "name": "python3",
      "display_name": "Python 3"
    },
    "language_info": {
      "name": "python"
    }
  },
  "cells": [
    {
      "cell_type": "markdown",
      "metadata": {
        "id": "view-in-github",
        "colab_type": "text"
      },
      "source": [
        "<a href=\"https://colab.research.google.com/github/isadays/QAOA_quantum/blob/main/QAOA.ipynb\" target=\"_parent\"><img src=\"https://colab.research.google.com/assets/colab-badge.svg\" alt=\"Open In Colab\"/></a>"
      ]
    },
    {
      "cell_type": "code",
      "execution_count": null,
      "metadata": {
        "id": "iWVu6KoeQpXU"
      },
      "outputs": [],
      "source": [
        "!pip install qiskit && pip install pylatexenc --upgrade && pip install matplotlib --upgrade && pip install qiskit-ibm-runtime && pip install qiskit-aer\n",
        "\n"
      ]
    },
    {
      "cell_type": "code",
      "source": [
        "import rustworkx as rx\n",
        "from rustworkx.visualization import mpl_draw as draw_graph\n",
        "import numpy as np\n",
        "\n",
        "n = 5\n",
        "\n",
        "graph = rx.PyGraph()\n",
        "graph.add_nodes_from(np.arange(0, n, 1))\n",
        "edge_list = [(0, 1, 1.0), (0, 2, 1.0), (0, 4, 1.0), (1, 2, 1.0), (2, 3, 1.0), (3, 4, 1.0)]\n",
        "graph.add_edges_from(edge_list)\n",
        "draw_graph(graph, node_size=600, with_labels=True)"
      ],
      "metadata": {
        "id": "wVSS0ng3Yalj"
      },
      "execution_count": null,
      "outputs": []
    },
    {
      "cell_type": "code",
      "source": [
        "from qiskit.quantum_info import SparsePauliOp\n",
        "\n",
        "def build_max_cut_pauli(graph: rx.PyGraph) -> list[tuple[str, float]]:\n",
        "    \"\"\"Convert the graph to Pauli list.\n",
        "\n",
        "    This function does the inverse of `build_max_cut_graph`\n",
        "    \"\"\"\n",
        "    pauli_list = []\n",
        "    for edge in list(graph.edge_list()):\n",
        "        paulis = [\"I\"] * len(graph)\n",
        "        paulis[edge[0]], paulis[edge[1]] = \"Z\", \"Z\"\n",
        "\n",
        "        weight = graph.get_edge_data(edge[0], edge[1])\n",
        "\n",
        "        pauli_list.append((\"\".join(paulis)[::-1], weight))\n",
        "\n",
        "    return pauli_list\n",
        "\n",
        "\n",
        "max_cut_pauli= build_max_cut_pauli(graph)\n",
        "\n",
        "cost_hamiltonian = SparsePauliOp.from_list(max_cut_pauli)\n",
        "print(\"Cost Function Hamiltonian:\", cost_hamiltonian)"
      ],
      "metadata": {
        "id": "FpELTVsDYKc-"
      },
      "execution_count": null,
      "outputs": []
    },
    {
      "cell_type": "code",
      "source": [
        "from qiskit.circuit.library import QAOAAnsatz\n",
        "\n",
        "circuit = QAOAAnsatz(cost_operator=cost_hamiltonian, reps=2)\n",
        "circuit.measure_all()\n",
        "circuit.draw('text')"
      ],
      "metadata": {
        "colab": {
          "base_uri": "https://localhost:8080/",
          "height": 217
        },
        "id": "w2E4DJnlXsRm",
        "outputId": "cb7a10ce-cc98-45d4-ced2-77f5191359e6"
      },
      "execution_count": 24,
      "outputs": [
        {
          "output_type": "execute_result",
          "data": {
            "text/plain": [
              "        ┌────────────────────────────┐ ░ ┌─┐            \n",
              "   q_0: ┤0                           ├─░─┤M├────────────\n",
              "        │                            │ ░ └╥┘┌─┐         \n",
              "   q_1: ┤1                           ├─░──╫─┤M├─────────\n",
              "        │                            │ ░  ║ └╥┘┌─┐      \n",
              "   q_2: ┤2 QAOA(γ[0],β[0],γ[1],β[1]) ├─░──╫──╫─┤M├──────\n",
              "        │                            │ ░  ║  ║ └╥┘┌─┐   \n",
              "   q_3: ┤3                           ├─░──╫──╫──╫─┤M├───\n",
              "        │                            │ ░  ║  ║  ║ └╥┘┌─┐\n",
              "   q_4: ┤4                           ├─░──╫──╫──╫──╫─┤M├\n",
              "        └────────────────────────────┘ ░  ║  ║  ║  ║ └╥┘\n",
              "meas: 5/══════════════════════════════════╩══╩══╩══╩══╩═\n",
              "                                          0  1  2  3  4 "
            ],
            "text/html": [
              "<pre style=\"word-wrap: normal;white-space: pre;background: #fff0;line-height: 1.1;font-family: &quot;Courier New&quot;,Courier,monospace\">        ┌────────────────────────────┐ ░ ┌─┐            \n",
              "   q_0: ┤0                           ├─░─┤M├────────────\n",
              "        │                            │ ░ └╥┘┌─┐         \n",
              "   q_1: ┤1                           ├─░──╫─┤M├─────────\n",
              "        │                            │ ░  ║ └╥┘┌─┐      \n",
              "   q_2: ┤2 QAOA(γ[0],β[0],γ[1],β[1]) ├─░──╫──╫─┤M├──────\n",
              "        │                            │ ░  ║  ║ └╥┘┌─┐   \n",
              "   q_3: ┤3                           ├─░──╫──╫──╫─┤M├───\n",
              "        │                            │ ░  ║  ║  ║ └╥┘┌─┐\n",
              "   q_4: ┤4                           ├─░──╫──╫──╫──╫─┤M├\n",
              "        └────────────────────────────┘ ░  ║  ║  ║  ║ └╥┘\n",
              "meas: 5/══════════════════════════════════╩══╩══╩══╩══╩═\n",
              "                                          0  1  2  3  4 </pre>"
            ]
          },
          "metadata": {},
          "execution_count": 24
        }
      ]
    },
    {
      "cell_type": "code",
      "source": [
        "circuit.parameters"
      ],
      "metadata": {
        "colab": {
          "base_uri": "https://localhost:8080/"
        },
        "id": "PW5_urXrZ_FR",
        "outputId": "0696faf8-8dee-4fd8-b7dc-d1dc9d79a4a9"
      },
      "execution_count": 25,
      "outputs": [
        {
          "output_type": "execute_result",
          "data": {
            "text/plain": [
              "ParameterView([ParameterVectorElement(β[0]), ParameterVectorElement(β[1]), ParameterVectorElement(γ[0]), ParameterVectorElement(γ[1])])"
            ]
          },
          "metadata": {},
          "execution_count": 25
        }
      ]
    },
    {
      "cell_type": "code",
      "source": [
        "from qiskit_aer import Aer\n",
        "from qiskit.transpiler.preset_passmanagers import generate_preset_pass_manager\n",
        "\n",
        "backend = Aer.get_backend('aer_simulator')\n",
        "\n",
        "pm = generate_preset_pass_manager(optimization_level=3, backend=backend)\n",
        "\n",
        "candidate_circuit = pm.run(circuit)\n",
        "candidate_circuit.draw('text', fold=False, idle_wires=False)\n",
        "\n"
      ],
      "metadata": {
        "colab": {
          "base_uri": "https://localhost:8080/",
          "height": 817
        },
        "id": "vaQaCy-laaWd",
        "outputId": "37e42bc2-0daf-449b-e652-b227c2370518"
      },
      "execution_count": 34,
      "outputs": [
        {
          "output_type": "execute_result",
          "data": {
            "text/plain": [
              "        ┌───┐                                                            »\n",
              "   q_0: ┤ H ├─■──────────────■─────────────────────────────■─────────────»\n",
              "        ├───┤ │ZZ(2.0*γ[0])  │                             │             »\n",
              "   q_1: ┤ H ├─■──────────────┼──────────────■──────────────┼─────────────»\n",
              "        ├───┤                │ZZ(2.0*γ[0])  │ZZ(2.0*γ[0])  │             »\n",
              "   q_2: ┤ H ├────────────────■──────────────■──────────────┼─────────────»\n",
              "        ├───┤                                              │             »\n",
              "   q_3: ┤ H ├──────────────────────────────────────────────┼─────────────»\n",
              "        ├───┤                                              │ZZ(2.0*γ[0]) »\n",
              "   q_4: ┤ H ├──────────────────────────────────────────────■─────────────»\n",
              "        └───┘                                                            »\n",
              "meas: 5/═════════════════════════════════════════════════════════════════»\n",
              "                                                                         »\n",
              "«        ┌──────────────┐                                               »\n",
              "«   q_0: ┤ Rx(2.0*β[0]) ├─■───────────────■─────────────────────────────»\n",
              "«        ├──────────────┤ │ZZ(2.0*γ[1])   │                             »\n",
              "«   q_1: ┤ Rx(2.0*β[0]) ├─■───────────────┼───────────────■─────────────»\n",
              "«        └──────────────┘┌──────────────┐ │ZZ(2.0*γ[1])   │ZZ(2.0*γ[1]) »\n",
              "«   q_2: ─■──────────────┤ Rx(2.0*β[0]) ├─■───────────────■─────────────»\n",
              "«         │ZZ(2.0*γ[0])  └──────────────┘┌──────────────┐               »\n",
              "«   q_3: ─■───────────────■──────────────┤ Rx(2.0*β[0]) ├───────────────»\n",
              "«                         │ZZ(2.0*γ[0])  ├──────────────┤               »\n",
              "«   q_4: ─────────────────■──────────────┤ Rx(2.0*β[0]) ├───────────────»\n",
              "«                                        └──────────────┘               »\n",
              "«meas: 5/═══════════════════════════════════════════════════════════════»\n",
              "«                                                                       »\n",
              "«                       ┌──────────────┐                                 ░ ┌─┐»\n",
              "«   q_0: ─■─────────────┤ Rx(2.0*β[1]) ├─────────────────────────────────░─┤M├»\n",
              "«         │             ├──────────────┤                                 ░ └╥┘»\n",
              "«   q_1: ─┼─────────────┤ Rx(2.0*β[1]) ├─────────────────────────────────░──╫─»\n",
              "«         │             └──────────────┘┌──────────────┐                 ░  ║ »\n",
              "«   q_2: ─┼──────────────■──────────────┤ Rx(2.0*β[1]) ├─────────────────░──╫─»\n",
              "«         │              │ZZ(2.0*γ[1])  └──────────────┘┌──────────────┐ ░  ║ »\n",
              "«   q_3: ─┼──────────────■───────────────■──────────────┤ Rx(2.0*β[1]) ├─░──╫─»\n",
              "«         │ZZ(2.0*γ[1])                  │ZZ(2.0*γ[1])  ├──────────────┤ ░  ║ »\n",
              "«   q_4: ─■──────────────────────────────■──────────────┤ Rx(2.0*β[1]) ├─░──╫─»\n",
              "«                                                       └──────────────┘ ░  ║ »\n",
              "«meas: 5/═══════════════════════════════════════════════════════════════════╩═»\n",
              "«                                                                           0 »\n",
              "«                    \n",
              "«   q_0: ────────────\n",
              "«        ┌─┐         \n",
              "«   q_1: ┤M├─────────\n",
              "«        └╥┘┌─┐      \n",
              "«   q_2: ─╫─┤M├──────\n",
              "«         ║ └╥┘┌─┐   \n",
              "«   q_3: ─╫──╫─┤M├───\n",
              "«         ║  ║ └╥┘┌─┐\n",
              "«   q_4: ─╫──╫──╫─┤M├\n",
              "«         ║  ║  ║ └╥┘\n",
              "«meas: 5/═╩══╩══╩══╩═\n",
              "«         1  2  3  4 "
            ],
            "text/html": [
              "<pre style=\"word-wrap: normal;white-space: pre;background: #fff0;line-height: 1.1;font-family: &quot;Courier New&quot;,Courier,monospace\">        ┌───┐                                                            »\n",
              "   q_0: ┤ H ├─■──────────────■─────────────────────────────■─────────────»\n",
              "        ├───┤ │ZZ(2.0*γ[0])  │                             │             »\n",
              "   q_1: ┤ H ├─■──────────────┼──────────────■──────────────┼─────────────»\n",
              "        ├───┤                │ZZ(2.0*γ[0])  │ZZ(2.0*γ[0])  │             »\n",
              "   q_2: ┤ H ├────────────────■──────────────■──────────────┼─────────────»\n",
              "        ├───┤                                              │             »\n",
              "   q_3: ┤ H ├──────────────────────────────────────────────┼─────────────»\n",
              "        ├───┤                                              │ZZ(2.0*γ[0]) »\n",
              "   q_4: ┤ H ├──────────────────────────────────────────────■─────────────»\n",
              "        └───┘                                                            »\n",
              "meas: 5/═════════════════════════════════════════════════════════════════»\n",
              "                                                                         »\n",
              "«        ┌──────────────┐                                               »\n",
              "«   q_0: ┤ Rx(2.0*β[0]) ├─■───────────────■─────────────────────────────»\n",
              "«        ├──────────────┤ │ZZ(2.0*γ[1])   │                             »\n",
              "«   q_1: ┤ Rx(2.0*β[0]) ├─■───────────────┼───────────────■─────────────»\n",
              "«        └──────────────┘┌──────────────┐ │ZZ(2.0*γ[1])   │ZZ(2.0*γ[1]) »\n",
              "«   q_2: ─■──────────────┤ Rx(2.0*β[0]) ├─■───────────────■─────────────»\n",
              "«         │ZZ(2.0*γ[0])  └──────────────┘┌──────────────┐               »\n",
              "«   q_3: ─■───────────────■──────────────┤ Rx(2.0*β[0]) ├───────────────»\n",
              "«                         │ZZ(2.0*γ[0])  ├──────────────┤               »\n",
              "«   q_4: ─────────────────■──────────────┤ Rx(2.0*β[0]) ├───────────────»\n",
              "«                                        └──────────────┘               »\n",
              "«meas: 5/═══════════════════════════════════════════════════════════════»\n",
              "«                                                                       »\n",
              "«                       ┌──────────────┐                                 ░ ┌─┐»\n",
              "«   q_0: ─■─────────────┤ Rx(2.0*β[1]) ├─────────────────────────────────░─┤M├»\n",
              "«         │             ├──────────────┤                                 ░ └╥┘»\n",
              "«   q_1: ─┼─────────────┤ Rx(2.0*β[1]) ├─────────────────────────────────░──╫─»\n",
              "«         │             └──────────────┘┌──────────────┐                 ░  ║ »\n",
              "«   q_2: ─┼──────────────■──────────────┤ Rx(2.0*β[1]) ├─────────────────░──╫─»\n",
              "«         │              │ZZ(2.0*γ[1])  └──────────────┘┌──────────────┐ ░  ║ »\n",
              "«   q_3: ─┼──────────────■───────────────■──────────────┤ Rx(2.0*β[1]) ├─░──╫─»\n",
              "«         │ZZ(2.0*γ[1])                  │ZZ(2.0*γ[1])  ├──────────────┤ ░  ║ »\n",
              "«   q_4: ─■──────────────────────────────■──────────────┤ Rx(2.0*β[1]) ├─░──╫─»\n",
              "«                                                       └──────────────┘ ░  ║ »\n",
              "«meas: 5/═══════════════════════════════════════════════════════════════════╩═»\n",
              "«                                                                           0 »\n",
              "«                    \n",
              "«   q_0: ────────────\n",
              "«        ┌─┐         \n",
              "«   q_1: ┤M├─────────\n",
              "«        └╥┘┌─┐      \n",
              "«   q_2: ─╫─┤M├──────\n",
              "«         ║ └╥┘┌─┐   \n",
              "«   q_3: ─╫──╫─┤M├───\n",
              "«         ║  ║ └╥┘┌─┐\n",
              "«   q_4: ─╫──╫──╫─┤M├\n",
              "«         ║  ║  ║ └╥┘\n",
              "«meas: 5/═╩══╩══╩══╩═\n",
              "«         1  2  3  4 </pre>"
            ]
          },
          "metadata": {},
          "execution_count": 34
        }
      ]
    },
    {
      "cell_type": "code",
      "source": [
        "import numpy as np\n",
        "initial_gamma = np.pi\n",
        "initial_beta = np.pi/2\n",
        "init_params = [initial_gamma, initial_beta, initial_gamma, initial_beta]"
      ],
      "metadata": {
        "id": "V5E3gbwceaxD"
      },
      "execution_count": 35,
      "outputs": []
    },
    {
      "cell_type": "code",
      "source": [
        "def cost_func_estimator(params, ansatz, hamiltonian, estimator):\n",
        "\n",
        "    # transform the observable defined on virtual qubits to\n",
        "    # an observable defined on all physical qubits\n",
        "    isa_hamiltonian = hamiltonian.apply_layout(ansatz.layout)\n",
        "\n",
        "    pub = (ansatz, isa_hamiltonian, params)\n",
        "    job = estimator.run([pub])\n",
        "\n",
        "    results = job.result()[0]\n",
        "    cost = results.data.evs\n",
        "\n",
        "    objective_func_vals.append(cost)\n",
        "\n",
        "\n",
        "    return cost"
      ],
      "metadata": {
        "id": "oBJczy2jfbCU"
      },
      "execution_count": 36,
      "outputs": []
    },
    {
      "cell_type": "code",
      "source": [
        "from qiskit_ibm_runtime import Session, EstimatorV2 as Estimator\n",
        "from scipy.optimize import minimize\n",
        "\n",
        "objective_func_vals = [] # Global variable\n",
        "with Session(backend=backend) as session:\n",
        "    # If using qiskit-ibm-runtime<0.24.0, change `mode=` to `session=`\n",
        "    estimator = Estimator(mode=session)\n",
        "    estimator.options.default_shots = 1000\n",
        "\n",
        "    # Set simple error suppression/mitigation options\n",
        "    estimator.options.dynamical_decoupling.enable = True\n",
        "    estimator.options.dynamical_decoupling.sequence_type = \"XY4\"\n",
        "    estimator.options.twirling.enable_gates = True\n",
        "    estimator.options.twirling.num_randomizations = \"auto\"\n",
        "\n",
        "    result = minimize(\n",
        "        cost_func_estimator,\n",
        "        init_params,\n",
        "        args=(candidate_circuit, cost_hamiltonian, estimator),\n",
        "        method=\"COBYLA\",\n",
        "        tol=1e-2,\n",
        "    )\n",
        "    print(result)"
      ],
      "metadata": {
        "colab": {
          "base_uri": "https://localhost:8080/"
        },
        "id": "OD-18FOcfqIW",
        "outputId": "57d5d1bb-a062-4bbe-be9f-846495a162a9"
      },
      "execution_count": 37,
      "outputs": [
        {
          "output_type": "stream",
          "name": "stderr",
          "text": [
            "/usr/local/lib/python3.10/dist-packages/qiskit_ibm_runtime/fake_provider/local_service.py:232: UserWarning: Options {'dynamical_decoupling': {'enable': True, 'sequence_type': 'XY4'}, 'twirling': {'enable_gates': True, 'num_randomizations': 'auto'}} have no effect in local testing mode.\n",
            "  warnings.warn(f\"Options {options_copy} have no effect in local testing mode.\")\n",
            "/usr/local/lib/python3.10/dist-packages/qiskit_ibm_runtime/fake_provider/local_service.py:232: UserWarning: Options {'dynamical_decoupling': {'enable': True, 'sequence_type': 'XY4'}, 'twirling': {'enable_gates': True, 'num_randomizations': 'auto'}} have no effect in local testing mode.\n",
            "  warnings.warn(f\"Options {options_copy} have no effect in local testing mode.\")\n",
            "/usr/local/lib/python3.10/dist-packages/qiskit_ibm_runtime/fake_provider/local_service.py:232: UserWarning: Options {'dynamical_decoupling': {'enable': True, 'sequence_type': 'XY4'}, 'twirling': {'enable_gates': True, 'num_randomizations': 'auto'}} have no effect in local testing mode.\n",
            "  warnings.warn(f\"Options {options_copy} have no effect in local testing mode.\")\n",
            "/usr/local/lib/python3.10/dist-packages/qiskit_ibm_runtime/fake_provider/local_service.py:232: UserWarning: Options {'dynamical_decoupling': {'enable': True, 'sequence_type': 'XY4'}, 'twirling': {'enable_gates': True, 'num_randomizations': 'auto'}} have no effect in local testing mode.\n",
            "  warnings.warn(f\"Options {options_copy} have no effect in local testing mode.\")\n",
            "/usr/local/lib/python3.10/dist-packages/qiskit_ibm_runtime/fake_provider/local_service.py:232: UserWarning: Options {'dynamical_decoupling': {'enable': True, 'sequence_type': 'XY4'}, 'twirling': {'enable_gates': True, 'num_randomizations': 'auto'}} have no effect in local testing mode.\n",
            "  warnings.warn(f\"Options {options_copy} have no effect in local testing mode.\")\n",
            "/usr/local/lib/python3.10/dist-packages/qiskit_ibm_runtime/fake_provider/local_service.py:232: UserWarning: Options {'dynamical_decoupling': {'enable': True, 'sequence_type': 'XY4'}, 'twirling': {'enable_gates': True, 'num_randomizations': 'auto'}} have no effect in local testing mode.\n",
            "  warnings.warn(f\"Options {options_copy} have no effect in local testing mode.\")\n",
            "/usr/local/lib/python3.10/dist-packages/qiskit_ibm_runtime/fake_provider/local_service.py:232: UserWarning: Options {'dynamical_decoupling': {'enable': True, 'sequence_type': 'XY4'}, 'twirling': {'enable_gates': True, 'num_randomizations': 'auto'}} have no effect in local testing mode.\n",
            "  warnings.warn(f\"Options {options_copy} have no effect in local testing mode.\")\n",
            "/usr/local/lib/python3.10/dist-packages/qiskit_ibm_runtime/fake_provider/local_service.py:232: UserWarning: Options {'dynamical_decoupling': {'enable': True, 'sequence_type': 'XY4'}, 'twirling': {'enable_gates': True, 'num_randomizations': 'auto'}} have no effect in local testing mode.\n",
            "  warnings.warn(f\"Options {options_copy} have no effect in local testing mode.\")\n",
            "/usr/local/lib/python3.10/dist-packages/qiskit_ibm_runtime/fake_provider/local_service.py:232: UserWarning: Options {'dynamical_decoupling': {'enable': True, 'sequence_type': 'XY4'}, 'twirling': {'enable_gates': True, 'num_randomizations': 'auto'}} have no effect in local testing mode.\n",
            "  warnings.warn(f\"Options {options_copy} have no effect in local testing mode.\")\n",
            "/usr/local/lib/python3.10/dist-packages/qiskit_ibm_runtime/fake_provider/local_service.py:232: UserWarning: Options {'dynamical_decoupling': {'enable': True, 'sequence_type': 'XY4'}, 'twirling': {'enable_gates': True, 'num_randomizations': 'auto'}} have no effect in local testing mode.\n",
            "  warnings.warn(f\"Options {options_copy} have no effect in local testing mode.\")\n",
            "/usr/local/lib/python3.10/dist-packages/qiskit_ibm_runtime/fake_provider/local_service.py:232: UserWarning: Options {'dynamical_decoupling': {'enable': True, 'sequence_type': 'XY4'}, 'twirling': {'enable_gates': True, 'num_randomizations': 'auto'}} have no effect in local testing mode.\n",
            "  warnings.warn(f\"Options {options_copy} have no effect in local testing mode.\")\n",
            "/usr/local/lib/python3.10/dist-packages/qiskit_ibm_runtime/fake_provider/local_service.py:232: UserWarning: Options {'dynamical_decoupling': {'enable': True, 'sequence_type': 'XY4'}, 'twirling': {'enable_gates': True, 'num_randomizations': 'auto'}} have no effect in local testing mode.\n",
            "  warnings.warn(f\"Options {options_copy} have no effect in local testing mode.\")\n",
            "/usr/local/lib/python3.10/dist-packages/qiskit_ibm_runtime/fake_provider/local_service.py:232: UserWarning: Options {'dynamical_decoupling': {'enable': True, 'sequence_type': 'XY4'}, 'twirling': {'enable_gates': True, 'num_randomizations': 'auto'}} have no effect in local testing mode.\n",
            "  warnings.warn(f\"Options {options_copy} have no effect in local testing mode.\")\n",
            "/usr/local/lib/python3.10/dist-packages/qiskit_ibm_runtime/fake_provider/local_service.py:232: UserWarning: Options {'dynamical_decoupling': {'enable': True, 'sequence_type': 'XY4'}, 'twirling': {'enable_gates': True, 'num_randomizations': 'auto'}} have no effect in local testing mode.\n",
            "  warnings.warn(f\"Options {options_copy} have no effect in local testing mode.\")\n",
            "/usr/local/lib/python3.10/dist-packages/qiskit_ibm_runtime/fake_provider/local_service.py:232: UserWarning: Options {'dynamical_decoupling': {'enable': True, 'sequence_type': 'XY4'}, 'twirling': {'enable_gates': True, 'num_randomizations': 'auto'}} have no effect in local testing mode.\n",
            "  warnings.warn(f\"Options {options_copy} have no effect in local testing mode.\")\n",
            "/usr/local/lib/python3.10/dist-packages/qiskit_ibm_runtime/fake_provider/local_service.py:232: UserWarning: Options {'dynamical_decoupling': {'enable': True, 'sequence_type': 'XY4'}, 'twirling': {'enable_gates': True, 'num_randomizations': 'auto'}} have no effect in local testing mode.\n",
            "  warnings.warn(f\"Options {options_copy} have no effect in local testing mode.\")\n",
            "/usr/local/lib/python3.10/dist-packages/qiskit_ibm_runtime/fake_provider/local_service.py:232: UserWarning: Options {'dynamical_decoupling': {'enable': True, 'sequence_type': 'XY4'}, 'twirling': {'enable_gates': True, 'num_randomizations': 'auto'}} have no effect in local testing mode.\n",
            "  warnings.warn(f\"Options {options_copy} have no effect in local testing mode.\")\n",
            "/usr/local/lib/python3.10/dist-packages/qiskit_ibm_runtime/fake_provider/local_service.py:232: UserWarning: Options {'dynamical_decoupling': {'enable': True, 'sequence_type': 'XY4'}, 'twirling': {'enable_gates': True, 'num_randomizations': 'auto'}} have no effect in local testing mode.\n",
            "  warnings.warn(f\"Options {options_copy} have no effect in local testing mode.\")\n",
            "/usr/local/lib/python3.10/dist-packages/qiskit_ibm_runtime/fake_provider/local_service.py:232: UserWarning: Options {'dynamical_decoupling': {'enable': True, 'sequence_type': 'XY4'}, 'twirling': {'enable_gates': True, 'num_randomizations': 'auto'}} have no effect in local testing mode.\n",
            "  warnings.warn(f\"Options {options_copy} have no effect in local testing mode.\")\n",
            "/usr/local/lib/python3.10/dist-packages/qiskit_ibm_runtime/fake_provider/local_service.py:232: UserWarning: Options {'dynamical_decoupling': {'enable': True, 'sequence_type': 'XY4'}, 'twirling': {'enable_gates': True, 'num_randomizations': 'auto'}} have no effect in local testing mode.\n",
            "  warnings.warn(f\"Options {options_copy} have no effect in local testing mode.\")\n",
            "/usr/local/lib/python3.10/dist-packages/qiskit_ibm_runtime/fake_provider/local_service.py:232: UserWarning: Options {'dynamical_decoupling': {'enable': True, 'sequence_type': 'XY4'}, 'twirling': {'enable_gates': True, 'num_randomizations': 'auto'}} have no effect in local testing mode.\n",
            "  warnings.warn(f\"Options {options_copy} have no effect in local testing mode.\")\n",
            "/usr/local/lib/python3.10/dist-packages/qiskit_ibm_runtime/fake_provider/local_service.py:232: UserWarning: Options {'dynamical_decoupling': {'enable': True, 'sequence_type': 'XY4'}, 'twirling': {'enable_gates': True, 'num_randomizations': 'auto'}} have no effect in local testing mode.\n",
            "  warnings.warn(f\"Options {options_copy} have no effect in local testing mode.\")\n",
            "/usr/local/lib/python3.10/dist-packages/qiskit_ibm_runtime/fake_provider/local_service.py:232: UserWarning: Options {'dynamical_decoupling': {'enable': True, 'sequence_type': 'XY4'}, 'twirling': {'enable_gates': True, 'num_randomizations': 'auto'}} have no effect in local testing mode.\n",
            "  warnings.warn(f\"Options {options_copy} have no effect in local testing mode.\")\n",
            "/usr/local/lib/python3.10/dist-packages/qiskit_ibm_runtime/fake_provider/local_service.py:232: UserWarning: Options {'dynamical_decoupling': {'enable': True, 'sequence_type': 'XY4'}, 'twirling': {'enable_gates': True, 'num_randomizations': 'auto'}} have no effect in local testing mode.\n",
            "  warnings.warn(f\"Options {options_copy} have no effect in local testing mode.\")\n",
            "/usr/local/lib/python3.10/dist-packages/qiskit_ibm_runtime/fake_provider/local_service.py:232: UserWarning: Options {'dynamical_decoupling': {'enable': True, 'sequence_type': 'XY4'}, 'twirling': {'enable_gates': True, 'num_randomizations': 'auto'}} have no effect in local testing mode.\n",
            "  warnings.warn(f\"Options {options_copy} have no effect in local testing mode.\")\n",
            "/usr/local/lib/python3.10/dist-packages/qiskit_ibm_runtime/fake_provider/local_service.py:232: UserWarning: Options {'dynamical_decoupling': {'enable': True, 'sequence_type': 'XY4'}, 'twirling': {'enable_gates': True, 'num_randomizations': 'auto'}} have no effect in local testing mode.\n",
            "  warnings.warn(f\"Options {options_copy} have no effect in local testing mode.\")\n",
            "/usr/local/lib/python3.10/dist-packages/qiskit_ibm_runtime/fake_provider/local_service.py:232: UserWarning: Options {'dynamical_decoupling': {'enable': True, 'sequence_type': 'XY4'}, 'twirling': {'enable_gates': True, 'num_randomizations': 'auto'}} have no effect in local testing mode.\n",
            "  warnings.warn(f\"Options {options_copy} have no effect in local testing mode.\")\n",
            "/usr/local/lib/python3.10/dist-packages/qiskit_ibm_runtime/fake_provider/local_service.py:232: UserWarning: Options {'dynamical_decoupling': {'enable': True, 'sequence_type': 'XY4'}, 'twirling': {'enable_gates': True, 'num_randomizations': 'auto'}} have no effect in local testing mode.\n",
            "  warnings.warn(f\"Options {options_copy} have no effect in local testing mode.\")\n"
          ]
        },
        {
          "output_type": "stream",
          "name": "stdout",
          "text": [
            " message: Optimization terminated successfully.\n",
            " success: True\n",
            "  status: 1\n",
            "     fun: -1.878121878121878\n",
            "       x: [ 2.602e+00  1.243e+00  1.928e+00  1.687e+00]\n",
            "    nfev: 29\n",
            "   maxcv: 0.0\n"
          ]
        },
        {
          "output_type": "stream",
          "name": "stderr",
          "text": [
            "/usr/local/lib/python3.10/dist-packages/qiskit_ibm_runtime/fake_provider/local_service.py:232: UserWarning: Options {'dynamical_decoupling': {'enable': True, 'sequence_type': 'XY4'}, 'twirling': {'enable_gates': True, 'num_randomizations': 'auto'}} have no effect in local testing mode.\n",
            "  warnings.warn(f\"Options {options_copy} have no effect in local testing mode.\")\n"
          ]
        }
      ]
    },
    {
      "cell_type": "code",
      "source": [
        "import matplotlib.pyplot as plt\n",
        "\n",
        "plt.figure(figsize=(12, 6))\n",
        "plt.plot(objective_func_vals)\n",
        "plt.xlabel(\"Iteration\")\n",
        "plt.ylabel(\"Cost\")\n",
        "plt.show()"
      ],
      "metadata": {
        "colab": {
          "base_uri": "https://localhost:8080/",
          "height": 542
        },
        "id": "m-UYTXoufy5j",
        "outputId": "2adf1ae7-e7d6-44ae-8f90-9eb920487fbe"
      },
      "execution_count": 38,
      "outputs": [
        {
          "output_type": "display_data",
          "data": {
            "text/plain": [
              "<Figure size 1200x600 with 1 Axes>"
            ],
            "image/png": "[encoded data removed]"
          },
          "metadata": {}
        }
      ]
    },
    {
      "cell_type": "code",
      "source": [
        "optimized_circuit = candidate_circuit.assign_parameters(result.x)\n",
        "optimized_circuit.draw('text', fold=False, idle_wires=False)"
      ],
      "metadata": {
        "colab": {
          "base_uri": "https://localhost:8080/",
          "height": 617
        },
        "id": "qin8XWlJf8Fj",
        "outputId": "845a4988-a070-458c-d984-1ecfa3dc670e"
      },
      "execution_count": 40,
      "outputs": [
        {
          "output_type": "execute_result",
          "data": {
            "text/plain": [
              "        ┌───┐                                                    ┌────────────┐»\n",
              "   q_0: ┤ H ├─■────────────■─────────────────────────■───────────┤ Rx(5.2035) ├»\n",
              "        ├───┤ │ZZ(3.8556)  │                         │           ├────────────┤»\n",
              "   q_1: ┤ H ├─■────────────┼────────────■────────────┼───────────┤ Rx(5.2035) ├»\n",
              "        ├───┤              │ZZ(3.8556)  │ZZ(3.8556)  │           └────────────┘»\n",
              "   q_2: ┤ H ├──────────────■────────────■────────────┼────────────■────────────»\n",
              "        ├───┤                                        │            │ZZ(3.8556)  »\n",
              "   q_3: ┤ H ├────────────────────────────────────────┼────────────■────────────»\n",
              "        ├───┤                                        │ZZ(3.8556)               »\n",
              "   q_4: ┤ H ├────────────────────────────────────────■─────────────────────────»\n",
              "        └───┘                                                                  »\n",
              "meas: 5/═══════════════════════════════════════════════════════════════════════»\n",
              "                                                                               »\n",
              "«                                                              ┌────────────┐»\n",
              "«   q_0: ─■─────────────■──────────────────────────■───────────┤ Rx(2.4856) ├»\n",
              "«         │ZZ(3.3732)   │                          │           ├────────────┤»\n",
              "«   q_1: ─■─────────────┼─────────────■────────────┼───────────┤ Rx(2.4856) ├»\n",
              "«        ┌────────────┐ │ZZ(3.3732)   │ZZ(3.3732)  │           └────────────┘»\n",
              "«   q_2: ┤ Rx(5.2035) ├─■─────────────■────────────┼────────────■────────────»\n",
              "«        └────────────┘┌────────────┐              │            │ZZ(3.3732)  »\n",
              "«   q_3: ─■────────────┤ Rx(5.2035) ├──────────────┼────────────■────────────»\n",
              "«         │ZZ(3.8556)  ├────────────┤              │ZZ(3.3732)               »\n",
              "«   q_4: ─■────────────┤ Rx(5.2035) ├──────────────■─────────────────────────»\n",
              "«                      └────────────┘                                        »\n",
              "«meas: 5/════════════════════════════════════════════════════════════════════»\n",
              "«                                                                            »\n",
              "«                                     ░ ┌─┐            \n",
              "«   q_0: ─────────────────────────────░─┤M├────────────\n",
              "«                                     ░ └╥┘┌─┐         \n",
              "«   q_1: ─────────────────────────────░──╫─┤M├─────────\n",
              "«        ┌────────────┐               ░  ║ └╥┘┌─┐      \n",
              "«   q_2: ┤ Rx(2.4856) ├───────────────░──╫──╫─┤M├──────\n",
              "«        └────────────┘┌────────────┐ ░  ║  ║ └╥┘┌─┐   \n",
              "«   q_3: ─■────────────┤ Rx(2.4856) ├─░──╫──╫──╫─┤M├───\n",
              "«         │ZZ(3.3732)  ├────────────┤ ░  ║  ║  ║ └╥┘┌─┐\n",
              "«   q_4: ─■────────────┤ Rx(2.4856) ├─░──╫──╫──╫──╫─┤M├\n",
              "«                      └────────────┘ ░  ║  ║  ║  ║ └╥┘\n",
              "«meas: 5/════════════════════════════════╩══╩══╩══╩══╩═\n",
              "«                                        0  1  2  3  4 "
            ],
            "text/html": [
              "<pre style=\"word-wrap: normal;white-space: pre;background: #fff0;line-height: 1.1;font-family: &quot;Courier New&quot;,Courier,monospace\">        ┌───┐                                                    ┌────────────┐»\n",
              "   q_0: ┤ H ├─■────────────■─────────────────────────■───────────┤ Rx(5.2035) ├»\n",
              "        ├───┤ │ZZ(3.8556)  │                         │           ├────────────┤»\n",
              "   q_1: ┤ H ├─■────────────┼────────────■────────────┼───────────┤ Rx(5.2035) ├»\n",
              "        ├───┤              │ZZ(3.8556)  │ZZ(3.8556)  │           └────────────┘»\n",
              "   q_2: ┤ H ├──────────────■────────────■────────────┼────────────■────────────»\n",
              "        ├───┤                                        │            │ZZ(3.8556)  »\n",
              "   q_3: ┤ H ├────────────────────────────────────────┼────────────■────────────»\n",
              "        ├───┤                                        │ZZ(3.8556)               »\n",
              "   q_4: ┤ H ├────────────────────────────────────────■─────────────────────────»\n",
              "        └───┘                                                                  »\n",
              "meas: 5/═══════════════════════════════════════════════════════════════════════»\n",
              "                                                                               »\n",
              "«                                                              ┌────────────┐»\n",
              "«   q_0: ─■─────────────■──────────────────────────■───────────┤ Rx(2.4856) ├»\n",
              "«         │ZZ(3.3732)   │                          │           ├────────────┤»\n",
              "«   q_1: ─■─────────────┼─────────────■────────────┼───────────┤ Rx(2.4856) ├»\n",
              "«        ┌────────────┐ │ZZ(3.3732)   │ZZ(3.3732)  │           └────────────┘»\n",
              "«   q_2: ┤ Rx(5.2035) ├─■─────────────■────────────┼────────────■────────────»\n",
              "«        └────────────┘┌────────────┐              │            │ZZ(3.3732)  »\n",
              "«   q_3: ─■────────────┤ Rx(5.2035) ├──────────────┼────────────■────────────»\n",
              "«         │ZZ(3.8556)  ├────────────┤              │ZZ(3.3732)               »\n",
              "«   q_4: ─■────────────┤ Rx(5.2035) ├──────────────■─────────────────────────»\n",
              "«                      └────────────┘                                        »\n",
              "«meas: 5/════════════════════════════════════════════════════════════════════»\n",
              "«                                                                            »\n",
              "«                                     ░ ┌─┐            \n",
              "«   q_0: ─────────────────────────────░─┤M├────────────\n",
              "«                                     ░ └╥┘┌─┐         \n",
              "«   q_1: ─────────────────────────────░──╫─┤M├─────────\n",
              "«        ┌────────────┐               ░  ║ └╥┘┌─┐      \n",
              "«   q_2: ┤ Rx(2.4856) ├───────────────░──╫──╫─┤M├──────\n",
              "«        └────────────┘┌────────────┐ ░  ║  ║ └╥┘┌─┐   \n",
              "«   q_3: ─■────────────┤ Rx(2.4856) ├─░──╫──╫──╫─┤M├───\n",
              "«         │ZZ(3.3732)  ├────────────┤ ░  ║  ║  ║ └╥┘┌─┐\n",
              "«   q_4: ─■────────────┤ Rx(2.4856) ├─░──╫──╫──╫──╫─┤M├\n",
              "«                      └────────────┘ ░  ║  ║  ║  ║ └╥┘\n",
              "«meas: 5/════════════════════════════════╩══╩══╩══╩══╩═\n",
              "«                                        0  1  2  3  4 </pre>"
            ]
          },
          "metadata": {},
          "execution_count": 40
        }
      ]
    },
    {
      "cell_type": "code",
      "source": [
        "from qiskit_ibm_runtime import SamplerV2 as Sampler\n",
        "\n",
        "# If using qiskit-ibm-runtime<0.24.0, change `mode=` to `backend=`\n",
        "sampler = Sampler(mode=backend)\n",
        "sampler.options.default_shots = 10000\n",
        "\n",
        "# Set simple error suppression/mitigation options\n",
        "sampler.options.dynamical_decoupling.enable = True\n",
        "sampler.options.dynamical_decoupling.sequence_type = \"XY4\"\n",
        "sampler.options.twirling.enable_gates = True\n",
        "sampler.options.twirling.num_randomizations = \"auto\"\n",
        "\n",
        "pub= (optimized_circuit, )\n",
        "job = sampler.run([pub], shots=int(1e4))\n",
        "counts_int = job.result()[0].data.meas.get_int_counts()\n",
        "counts_bin = job.result()[0].data.meas.get_counts()\n",
        "shots = sum(counts_int.values())\n",
        "final_distribution_int = {key: val/shots for key, val in counts_int.items()}\n",
        "final_distribution_bin = {key: val/shots for key, val in counts_bin.items()}\n",
        "print(final_distribution_int)"
      ],
      "metadata": {
        "colab": {
          "base_uri": "https://localhost:8080/"
        },
        "id": "6LuUlawegDYv",
        "outputId": "1740d89e-1ab6-469c-8230-ad9d992ffe08"
      },
      "execution_count": 41,
      "outputs": [
        {
          "output_type": "stream",
          "name": "stdout",
          "text": [
            "{26: 0.2139, 20: 0.0459, 5: 0.2122, 6: 0.0108, 2: 0.0386, 9: 0.0438, 11: 0.0481, 18: 0.0526, 10: 0.055, 13: 0.0517, 22: 0.0463, 17: 0.0109, 21: 0.0501, 28: 0.0108, 29: 0.0377, 19: 0.0121, 12: 0.0134, 3: 0.0106, 25: 0.0099, 30: 0.0015, 1: 0.0012, 4: 0.0013, 23: 0.0028, 27: 0.0027, 24: 0.0009, 14: 0.0091, 8: 0.0015, 16: 0.0018, 15: 0.0019, 7: 0.0009}\n"
          ]
        },
        {
          "output_type": "stream",
          "name": "stderr",
          "text": [
            "/usr/local/lib/python3.10/dist-packages/qiskit_ibm_runtime/fake_provider/local_service.py:232: UserWarning: Options {'dynamical_decoupling': {'enable': True, 'sequence_type': 'XY4'}, 'twirling': {'enable_gates': True, 'num_randomizations': 'auto'}} have no effect in local testing mode.\n",
            "  warnings.warn(f\"Options {options_copy} have no effect in local testing mode.\")\n"
          ]
        }
      ]
    },
    {
      "cell_type": "code",
      "source": [
        "# auxiliary functions to sample most likely bitstring\n",
        "def to_bitstring(integer, num_bits):\n",
        "    result = np.binary_repr(integer, width=num_bits)\n",
        "    return [int(digit) for digit in result]\n",
        "\n",
        "keys = list(final_distribution_int.keys())\n",
        "values = list(final_distribution_int.values())\n",
        "most_likely = keys[np.argmax(np.abs(values))]\n",
        "most_likely_bitstring = to_bitstring(most_likely, len(graph))\n",
        "most_likely_bitstring.reverse()\n",
        "\n",
        "print(\"Result bitstring:\", most_likely_bitstring)"
      ],
      "metadata": {
        "colab": {
          "base_uri": "https://localhost:8080/"
        },
        "id": "HaTIK0xOgLg7",
        "outputId": "36b4897e-71a7-4e60-8b96-d4008c745ebe"
      },
      "execution_count": 42,
      "outputs": [
        {
          "output_type": "stream",
          "name": "stdout",
          "text": [
            "Result bitstring: [0, 1, 0, 1, 1]\n"
          ]
        }
      ]
    },
    {
      "cell_type": "code",
      "source": [
        "import matplotlib.pyplot as plt\n",
        "import matplotlib\n",
        "\n",
        "matplotlib.rcParams.update({\"font.size\": 10})\n",
        "final_bits = final_distribution_bin\n",
        "values = np.abs(list(final_bits.values()))\n",
        "top_4_values = sorted(values, reverse=True)[:4]\n",
        "positions = []\n",
        "for value in top_4_values:\n",
        "    positions.append(np.where(values == value)[0])\n",
        "fig = plt.figure(figsize=(11, 6))\n",
        "ax = fig.add_subplot(1, 1, 1)\n",
        "plt.xticks(rotation=45)\n",
        "plt.title(\"Result Distribution\")\n",
        "plt.xlabel(\"Bitstrings (reversed)\")\n",
        "plt.ylabel(\"Probability\")\n",
        "ax.bar(list(final_bits.keys()), list(final_bits.values()), color=\"tab:grey\")\n",
        "for p in positions:\n",
        "    ax.get_children()[int(p)].set_color(\"tab:purple\")\n",
        "plt.show()"
      ],
      "metadata": {
        "colab": {
          "base_uri": "https://localhost:8080/",
          "height": 646
        },
        "id": "wN3jpDfhgQ7V",
        "outputId": "15f2044f-eb69-4f63-f91b-2c2c6dc73cc0"
      },
      "execution_count": 43,
      "outputs": [
        {
          "output_type": "stream",
          "name": "stderr",
          "text": [
            "<ipython-input-43-8d96f5cf5f81>:19: DeprecationWarning: Conversion of an array with ndim > 0 to a scalar is deprecated, and will error in future. Ensure you extract a single element from your array before performing this operation. (Deprecated NumPy 1.25.)\n",
            "  ax.get_children()[int(p)].set_color(\"tab:purple\")\n"
          ]
        },
        {
          "output_type": "display_data",
          "data": {
            "text/plain": [
              "<Figure size 1100x600 with 1 Axes>"
            ],
            "image/png": "[encoded data removed]"
          },
          "metadata": {}
        }
      ]
    },
    {
      "cell_type": "code",
      "source": [
        "# auxiliary function to plot graphs\n",
        "def plot_result(G, x):\n",
        "    colors = [\"tab:grey\" if i == 0 else \"tab:purple\" for i in x]\n",
        "    pos, default_axes = rx.spring_layout(G), plt.axes(frameon=True)\n",
        "    rx.visualization.mpl_draw(G, node_color=colors, node_size=100, alpha=0.8, pos=pos)\n",
        "\n",
        "\n",
        "plot_result(graph, most_likely_bitstring)"
      ],
      "metadata": {
        "colab": {
          "base_uri": "https://localhost:8080/",
          "height": 406
        },
        "id": "S8KaRA5egUsu",
        "outputId": "f016fb62-5971-48e8-d95b-aa4e4b34721f"
      },
      "execution_count": 44,
      "outputs": [
        {
          "output_type": "display_data",
          "data": {
            "text/plain": [
              "<Figure size 640x480 with 1 Axes>"
            ],
            "image/png": "[encoded data removed]"
          },
          "metadata": {}
        }
      ]
    },
    {
      "cell_type": "code",
      "source": [
        "from typing import Sequence\n",
        "def evaluate_sample(x: Sequence[int], graph: rx.PyGraph) -> float:\n",
        "    assert len(x) == len(list(graph.nodes())), \"The length of x must coincide with the number of nodes in the graph.\"\n",
        "    return sum(x[u] * (1 - x[v]) + x[v] * (1 - x[u]) for u, v in list(graph.edge_list()))\n",
        "\n",
        "\n",
        "cut_value= evaluate_sample(most_likely_bitstring, graph)\n",
        "print('The value of the cut is:', cut_value)"
      ],
      "metadata": {
        "colab": {
          "base_uri": "https://localhost:8080/"
        },
        "id": "c0qovEWWga6m",
        "outputId": "9b6e124e-44b9-45e6-a13d-e7f9c7b3a1b6"
      },
      "execution_count": 45,
      "outputs": [
        {
          "output_type": "stream",
          "name": "stdout",
          "text": [
            "The value of the cut is: 4\n"
          ]
        }
      ]
    },
    {
      "cell_type": "code",
      "source": [],
      "metadata": {
        "id": "sbbhSLkTgeBz"
      },
      "execution_count": null,
      "outputs": []
    }
  ]
}