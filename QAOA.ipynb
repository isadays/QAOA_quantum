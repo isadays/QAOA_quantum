{
  "nbformat": 4,
  "nbformat_minor": 0,
  "metadata": {
    "colab": {
      "provenance": [],
      "authorship_tag": "ABX9TyO+s/gjSt1NPjx4hZrFIxrt"
    },
    "kernelspec": {
      "name": "python3",
      "display_name": "Python 3"
    },
    "language_info": {
      "name": "python"
    }
  },
  "cells": [
    {
      "cell_type": "code",
      "execution_count": null,
      "metadata": {
        "id": "iWVu6KoeQpXU"
      },
      "outputs": [],
      "source": [
        "!pip install qiskit && pip install pylatexenc --upgrade && pip install matplotlib --upgrade\n"
      ]
    },
    {
      "cell_type": "code",
      "source": [
        "import rustworkx as rx\n",
        "from rustworkx.visualization import mpl_draw as draw_graph\n",
        "import numpy as np\n",
        "\n",
        "n = 5\n",
        "\n",
        "graph = rx.PyGraph()\n",
        "graph.add_nodes_from(np.arange(0, n, 1))\n",
        "edge_list = [(0, 1, 1.0), (0, 2, 1.0), (0, 4, 1.0), (1, 2, 1.0), (2, 3, 1.0), (3, 4, 1.0)]\n",
        "graph.add_edges_from(edge_list)\n",
        "draw_graph(graph, node_size=600, with_labels=True)"
      ],
      "metadata": {
        "id": "wVSS0ng3Yalj"
      },
      "execution_count": null,
      "outputs": []
    },
    {
      "cell_type": "code",
      "source": [
        "from qiskit.quantum_info import SparsePauliOp\n",
        "\n",
        "def build_max_cut_pauli(graph: rx.PyGraph) -> list[tuple[str, float]]:\n",
        "    \"\"\"Convert the graph to Pauli list.\n",
        "\n",
        "    This function does the inverse of `build_max_cut_graph`\n",
        "    \"\"\"\n",
        "    pauli_list = []\n",
        "    for edge in list(graph.edge_list()):\n",
        "        paulis = [\"I\"] * len(graph)\n",
        "        paulis[edge[0]], paulis[edge[1]] = \"Z\", \"Z\"\n",
        "\n",
        "        weight = graph.get_edge_data(edge[0], edge[1])\n",
        "\n",
        "        pauli_list.append((\"\".join(paulis)[::-1], weight))\n",
        "\n",
        "    return pauli_list\n",
        "\n",
        "\n",
        "max_cut_pauli= build_max_cut_pauli(graph)\n",
        "\n",
        "cost_hamiltonian = SparsePauliOp.from_list(max_cut_pauli)\n",
        "print(\"Cost Function Hamiltonian:\", cost_hamiltonian)"
      ],
      "metadata": {
        "id": "FpELTVsDYKc-"
      },
      "execution_count": null,
      "outputs": []
    },
    {
      "cell_type": "code",
      "source": [
        "from qiskit.circuit.library import QAOAAnsatz\n",
        "\n",
        "circuit = QAOAAnsatz(cost_operator=cost_hamiltonian, reps=2)\n",
        "circuit.measure_all()\n",
        "circuit.draw('text')"
      ],
      "metadata": {
        "colab": {
          "base_uri": "https://localhost:8080/",
          "height": 217
        },
        "id": "w2E4DJnlXsRm",
        "outputId": "cb7a10ce-cc98-45d4-ced2-77f5191359e6"
      },
      "execution_count": 24,
      "outputs": [
        {
          "output_type": "execute_result",
          "data": {
            "text/plain": [
              "        ┌────────────────────────────┐ ░ ┌─┐            \n",
              "   q_0: ┤0                           ├─░─┤M├────────────\n",
              "        │                            │ ░ └╥┘┌─┐         \n",
              "   q_1: ┤1                           ├─░──╫─┤M├─────────\n",
              "        │                            │ ░  ║ └╥┘┌─┐      \n",
              "   q_2: ┤2 QAOA(γ[0],β[0],γ[1],β[1]) ├─░──╫──╫─┤M├──────\n",
              "        │                            │ ░  ║  ║ └╥┘┌─┐   \n",
              "   q_3: ┤3                           ├─░──╫──╫──╫─┤M├───\n",
              "        │                            │ ░  ║  ║  ║ └╥┘┌─┐\n",
              "   q_4: ┤4                           ├─░──╫──╫──╫──╫─┤M├\n",
              "        └────────────────────────────┘ ░  ║  ║  ║  ║ └╥┘\n",
              "meas: 5/══════════════════════════════════╩══╩══╩══╩══╩═\n",
              "                                          0  1  2  3  4 "
            ],
            "text/html": [
              "<pre style=\"word-wrap: normal;white-space: pre;background: #fff0;line-height: 1.1;font-family: &quot;Courier New&quot;,Courier,monospace\">        ┌────────────────────────────┐ ░ ┌─┐            \n",
              "   q_0: ┤0                           ├─░─┤M├────────────\n",
              "        │                            │ ░ └╥┘┌─┐         \n",
              "   q_1: ┤1                           ├─░──╫─┤M├─────────\n",
              "        │                            │ ░  ║ └╥┘┌─┐      \n",
              "   q_2: ┤2 QAOA(γ[0],β[0],γ[1],β[1]) ├─░──╫──╫─┤M├──────\n",
              "        │                            │ ░  ║  ║ └╥┘┌─┐   \n",
              "   q_3: ┤3                           ├─░──╫──╫──╫─┤M├───\n",
              "        │                            │ ░  ║  ║  ║ └╥┘┌─┐\n",
              "   q_4: ┤4                           ├─░──╫──╫──╫──╫─┤M├\n",
              "        └────────────────────────────┘ ░  ║  ║  ║  ║ └╥┘\n",
              "meas: 5/══════════════════════════════════╩══╩══╩══╩══╩═\n",
              "                                          0  1  2  3  4 </pre>"
            ]
          },
          "metadata": {},
          "execution_count": 24
        }
      ]
    },
    {
      "cell_type": "code",
      "source": [
        "circuit.parameters"
      ],
      "metadata": {
        "colab": {
          "base_uri": "https://localhost:8080/"
        },
        "id": "PW5_urXrZ_FR",
        "outputId": "0696faf8-8dee-4fd8-b7dc-d1dc9d79a4a9"
      },
      "execution_count": 25,
      "outputs": [
        {
          "output_type": "execute_result",
          "data": {
            "text/plain": [
              "ParameterView([ParameterVectorElement(β[0]), ParameterVectorElement(β[1]), ParameterVectorElement(γ[0]), ParameterVectorElement(γ[1])])"
            ]
          },
          "metadata": {},
          "execution_count": 25
        }
      ]
    },
    {
      "cell_type": "code",
      "source": [],
      "metadata": {
        "id": "vaQaCy-laaWd"
      },
      "execution_count": null,
      "outputs": []
    }
  ]
}